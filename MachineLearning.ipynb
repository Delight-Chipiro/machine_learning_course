{
 "cells": [
  {
   "cell_type": "markdown",
   "id": "01b4867e-bcd0-4468-a0c1-67fcb521cb13",
   "metadata": {},
   "source": [
    "# Introduction to pandas"
   ]
  },
  {
   "cell_type": "code",
   "execution_count": 2,
   "id": "f7e391ae-eff1-4717-8d7d-8ef93cda1741",
   "metadata": {},
   "outputs": [],
   "source": [
    "import warnings \n",
    "\n",
    "import pandas as pd \n",
    "import numpy as np"
   ]
  },
  {
   "cell_type": "code",
   "execution_count": 3,
   "id": "54386e0c-e15b-4f9a-9f5f-75d61298d659",
   "metadata": {},
   "outputs": [
    {
     "name": "stdout",
     "output_type": "stream",
     "text": [
      "25\n"
     ]
    }
   ],
   "source": [
    "x= 5\n",
    "\n",
    "if x!=0:\n",
    "    print(x**2)"
   ]
  },
  {
   "cell_type": "markdown",
   "id": "0ec92d6b-c9cc-410b-bd8b-665a8301bb29",
   "metadata": {},
   "source": [
    "# Revision of Data types"
   ]
  },
  {
   "cell_type": "code",
   "execution_count": 8,
   "id": "567ac6ba-ab09-42ac-8c8b-5a63932c4305",
   "metadata": {},
   "outputs": [
    {
     "name": "stdout",
     "output_type": "stream",
     "text": [
      "<class 'str'>\n",
      "<class 'int'>\n",
      "<class 'float'>\n",
      "<class 'bool'>\n"
     ]
    }
   ],
   "source": [
    "# Basics of python\n",
    "my_string = 'Hello World'\n",
    "print(type(my_string))\n",
    "\n",
    "myInt = 30\n",
    "print(type(myInt))\n",
    "\n",
    "float = 3.99\n",
    "print(type(float))\n",
    "\n",
    "myBool = True\n",
    "print(type(myBool))"
   ]
  },
  {
   "cell_type": "code",
   "execution_count": 10,
   "id": "b5117f87-ac13-4984-bf86-17b83855def2",
   "metadata": {},
   "outputs": [
    {
     "name": "stdout",
     "output_type": "stream",
     "text": [
      " 1. Please welcome Mr Billionaire the data type is <class 'str'>/n/\n",
      "        2. Tough times were lasting in his early 20's the data type is<class 'int'> \n",
      "        3. But his bank balance today is 1200000000.45 because he kept believing that God was going to make a way for him\n",
      "        4. The last data type is <class 'float'>\n"
     ]
    }
   ],
   "source": [
    "# Multiple assignments\n",
    "myStr,myInt,myfloat = 'Billionaire',20,1200000000.45\n",
    "\n",
    "print(f\"\"\" 1. Please welcome Mr {myStr} the data type is {type(myStr)}/n/\n",
    "        2. Tough times were lasting in his early {myInt}'s the data type is{type(myInt)} \n",
    "        3. But his bank balance today is {myfloat} because he kept believing that God was going to make a way for him\n",
    "        4. The last data type is {type(myfloat)}\"\"\")"
   ]
  },
  {
   "cell_type": "markdown",
   "id": "bafc118e-208f-40fe-b0eb-35242fbc1b23",
   "metadata": {},
   "source": [
    "# Revision of Lists and dictionaries\n",
    "\n",
    "A collection of items"
   ]
  },
  {
   "cell_type": "code",
   "execution_count": 12,
   "id": "cfec90bc-0793-4a14-9c5f-faababf3d111",
   "metadata": {},
   "outputs": [
    {
     "name": "stdout",
     "output_type": "stream",
     "text": [
      "['Green', 'Red', 'White', 'Black']\n",
      "<class 'list'>\n"
     ]
    }
   ],
   "source": [
    "# Basic creation of a list\n",
    "list = ['Green', 'Red', 'White', 'Black']\n",
    "\n",
    "print(list)\n",
    "\n",
    "print(type(list))"
   ]
  },
  {
   "cell_type": "code",
   "execution_count": 14,
   "id": "e4d02acd-810d-4260-a67a-bfdfc4d91921",
   "metadata": {},
   "outputs": [
    {
     "name": "stdout",
     "output_type": "stream",
     "text": [
      "{'name': 'Dee-light', 'Age': 20, 'Occupation': 'Data Analyst', 'Salary': 'R60 000'}\n",
      "<class 'dict'>\n"
     ]
    }
   ],
   "source": [
    "# Basic creation of a Dictionary\n",
    "\n",
    "dict = {'name':'Dee-light', 'Age':20,'Occupation':'Data Analyst','Salary': 'R60 000' }\n",
    "\n",
    "print(dict)\n",
    "\n",
    "print(type(dict))"
   ]
  },
  {
   "cell_type": "markdown",
   "id": "4b7aa4e5-03bc-4b19-a4f5-80193c37175c",
   "metadata": {},
   "source": [
    "# JSON formatting\n",
    "Deserialize a JSON string and data from a file Use json.loads() when working with JSON strings, and json.load() when reading JSON data from files or streams.\n",
    "\n",
    "Serialize a Python object to a JSON string and data in a file Use json.dumps() when converting python object to JSON object, and json.dump() when writing to a JSON data in a file.\n",
    "\n",
    "ime."
   ]
  },
  {
   "cell_type": "code",
   "execution_count": 15,
   "id": "3b5d92d9-374e-4219-aa15-5b754345dbae",
   "metadata": {},
   "outputs": [],
   "source": [
    "import json"
   ]
  },
  {
   "cell_type": "code",
   "execution_count": 18,
   "id": "0cc34831-4c81-4814-b16a-92c16c443860",
   "metadata": {},
   "outputs": [
    {
     "name": "stdout",
     "output_type": "stream",
     "text": [
      "{\n",
      "    \"Name\": \"Delight Chipiro\",\n",
      "    \"Age\": 21,\n",
      "    \"Occupation\": \"Data Analyst\",\n",
      "    \"Address\": \"Nelspruit\",\n",
      "    \"Cars\": [\n",
      "        \"BMW M1140i\",\n",
      "        \"Toyota Hilux\"\n",
      "    ]\n",
      "}\n"
     ]
    }
   ],
   "source": [
    "data = {\n",
    "    'Name': 'Delight Chipiro',\n",
    "    'Age': 21,\n",
    "    'Occupation': 'Data Analyst',\n",
    "    'Address': 'Nelspruit',\n",
    "    'Cars':['BMW M1140i', 'Toyota Hilux']\n",
    "}\n",
    "\n",
    "#Generating JSON data\n",
    "json_data = json.dumps(data, indent = 4)\n",
    "print(json_data)"
   ]
  },
  {
   "cell_type": "code",
   "execution_count": 19,
   "id": "ddfbb3d7-5cc4-4821-a50b-3609f723af0e",
   "metadata": {},
   "outputs": [
    {
     "data": {
      "text/plain": [
       "['BMW M1140i', 'Toyota Hilux']"
      ]
     },
     "execution_count": 19,
     "metadata": {},
     "output_type": "execute_result"
    }
   ],
   "source": [
    "#Accessing the values in the dictionary\n",
    "data['Cars']"
   ]
  },
  {
   "cell_type": "code",
   "execution_count": 21,
   "id": "38d55f68-67bf-4484-a218-2e50339055ff",
   "metadata": {},
   "outputs": [
    {
     "data": {
      "text/plain": [
       "'Delight Chipiro'"
      ]
     },
     "execution_count": 21,
     "metadata": {},
     "output_type": "execute_result"
    }
   ],
   "source": [
    "data['Name']"
   ]
  },
  {
   "cell_type": "code",
   "execution_count": 45,
   "id": "352963be-9a84-4fc3-9317-811cef4d204b",
   "metadata": {},
   "outputs": [
    {
     "name": "stdout",
     "output_type": "stream",
     "text": [
      "<class 'dict'>\n"
     ]
    },
    {
     "data": {
      "text/html": [
       "<div>\n",
       "<style scoped>\n",
       "    .dataframe tbody tr th:only-of-type {\n",
       "        vertical-align: middle;\n",
       "    }\n",
       "\n",
       "    .dataframe tbody tr th {\n",
       "        vertical-align: top;\n",
       "    }\n",
       "\n",
       "    .dataframe thead th {\n",
       "        text-align: right;\n",
       "    }\n",
       "</style>\n",
       "<table border=\"1\" class=\"dataframe\">\n",
       "  <thead>\n",
       "    <tr style=\"text-align: right;\">\n",
       "      <th></th>\n",
       "      <th>feat_1</th>\n",
       "      <th>feat_2</th>\n",
       "      <th>feat_3</th>\n",
       "      <th>feat_4</th>\n",
       "      <th>feat_5</th>\n",
       "      <th>feat_6</th>\n",
       "      <th>feat_7</th>\n",
       "      <th>feat_8</th>\n",
       "      <th>feat_9</th>\n",
       "      <th>feat_10</th>\n",
       "      <th>...</th>\n",
       "      <th>feat_56</th>\n",
       "      <th>feat_57</th>\n",
       "      <th>feat_58</th>\n",
       "      <th>feat_59</th>\n",
       "      <th>feat_60</th>\n",
       "      <th>feat_61</th>\n",
       "      <th>feat_62</th>\n",
       "      <th>feat_63</th>\n",
       "      <th>feat_64</th>\n",
       "      <th>bankrupt</th>\n",
       "    </tr>\n",
       "    <tr>\n",
       "      <th>company_id</th>\n",
       "      <th></th>\n",
       "      <th></th>\n",
       "      <th></th>\n",
       "      <th></th>\n",
       "      <th></th>\n",
       "      <th></th>\n",
       "      <th></th>\n",
       "      <th></th>\n",
       "      <th></th>\n",
       "      <th></th>\n",
       "      <th></th>\n",
       "      <th></th>\n",
       "      <th></th>\n",
       "      <th></th>\n",
       "      <th></th>\n",
       "      <th></th>\n",
       "      <th></th>\n",
       "      <th></th>\n",
       "      <th></th>\n",
       "      <th></th>\n",
       "      <th></th>\n",
       "    </tr>\n",
       "  </thead>\n",
       "  <tbody>\n",
       "    <tr>\n",
       "      <th>1</th>\n",
       "      <td>0.174190</td>\n",
       "      <td>0.41299</td>\n",
       "      <td>0.14371</td>\n",
       "      <td>1.3480</td>\n",
       "      <td>-28.9820</td>\n",
       "      <td>0.60383</td>\n",
       "      <td>0.219460</td>\n",
       "      <td>1.12250</td>\n",
       "      <td>1.1961</td>\n",
       "      <td>0.46359</td>\n",
       "      <td>...</td>\n",
       "      <td>0.163960</td>\n",
       "      <td>0.375740</td>\n",
       "      <td>0.83604</td>\n",
       "      <td>0.000007</td>\n",
       "      <td>9.7145</td>\n",
       "      <td>6.2813</td>\n",
       "      <td>84.291</td>\n",
       "      <td>4.3303</td>\n",
       "      <td>4.0341</td>\n",
       "      <td>False</td>\n",
       "    </tr>\n",
       "    <tr>\n",
       "      <th>2</th>\n",
       "      <td>0.146240</td>\n",
       "      <td>0.46038</td>\n",
       "      <td>0.28230</td>\n",
       "      <td>1.6294</td>\n",
       "      <td>2.5952</td>\n",
       "      <td>0.00000</td>\n",
       "      <td>0.171850</td>\n",
       "      <td>1.17210</td>\n",
       "      <td>1.6018</td>\n",
       "      <td>0.53962</td>\n",
       "      <td>...</td>\n",
       "      <td>0.027516</td>\n",
       "      <td>0.271000</td>\n",
       "      <td>0.90108</td>\n",
       "      <td>0.000000</td>\n",
       "      <td>5.9882</td>\n",
       "      <td>4.1103</td>\n",
       "      <td>102.190</td>\n",
       "      <td>3.5716</td>\n",
       "      <td>5.9500</td>\n",
       "      <td>False</td>\n",
       "    </tr>\n",
       "    <tr>\n",
       "      <th>3</th>\n",
       "      <td>0.000595</td>\n",
       "      <td>0.22612</td>\n",
       "      <td>0.48839</td>\n",
       "      <td>3.1599</td>\n",
       "      <td>84.8740</td>\n",
       "      <td>0.19114</td>\n",
       "      <td>0.004572</td>\n",
       "      <td>2.98810</td>\n",
       "      <td>1.0077</td>\n",
       "      <td>0.67566</td>\n",
       "      <td>...</td>\n",
       "      <td>0.007639</td>\n",
       "      <td>0.000881</td>\n",
       "      <td>0.99236</td>\n",
       "      <td>0.000000</td>\n",
       "      <td>6.7742</td>\n",
       "      <td>3.7922</td>\n",
       "      <td>64.846</td>\n",
       "      <td>5.6287</td>\n",
       "      <td>4.4581</td>\n",
       "      <td>False</td>\n",
       "    </tr>\n",
       "    <tr>\n",
       "      <th>5</th>\n",
       "      <td>0.188290</td>\n",
       "      <td>0.41504</td>\n",
       "      <td>0.34231</td>\n",
       "      <td>1.9279</td>\n",
       "      <td>-58.2740</td>\n",
       "      <td>0.00000</td>\n",
       "      <td>0.233580</td>\n",
       "      <td>1.40940</td>\n",
       "      <td>1.3393</td>\n",
       "      <td>0.58496</td>\n",
       "      <td>...</td>\n",
       "      <td>0.176480</td>\n",
       "      <td>0.321880</td>\n",
       "      <td>0.82635</td>\n",
       "      <td>0.073039</td>\n",
       "      <td>2.5912</td>\n",
       "      <td>7.0756</td>\n",
       "      <td>100.540</td>\n",
       "      <td>3.6303</td>\n",
       "      <td>4.6375</td>\n",
       "      <td>False</td>\n",
       "    </tr>\n",
       "    <tr>\n",
       "      <th>6</th>\n",
       "      <td>0.182060</td>\n",
       "      <td>0.55615</td>\n",
       "      <td>0.32191</td>\n",
       "      <td>1.6045</td>\n",
       "      <td>16.3140</td>\n",
       "      <td>0.00000</td>\n",
       "      <td>0.182060</td>\n",
       "      <td>0.79808</td>\n",
       "      <td>1.8126</td>\n",
       "      <td>0.44385</td>\n",
       "      <td>...</td>\n",
       "      <td>0.555770</td>\n",
       "      <td>0.410190</td>\n",
       "      <td>0.46957</td>\n",
       "      <td>0.029421</td>\n",
       "      <td>8.4553</td>\n",
       "      <td>3.3488</td>\n",
       "      <td>107.240</td>\n",
       "      <td>3.4036</td>\n",
       "      <td>12.4540</td>\n",
       "      <td>False</td>\n",
       "    </tr>\n",
       "  </tbody>\n",
       "</table>\n",
       "<p>5 rows × 65 columns</p>\n",
       "</div>"
      ],
      "text/plain": [
       "              feat_1   feat_2   feat_3  feat_4   feat_5   feat_6    feat_7  \\\n",
       "company_id                                                                   \n",
       "1           0.174190  0.41299  0.14371  1.3480 -28.9820  0.60383  0.219460   \n",
       "2           0.146240  0.46038  0.28230  1.6294   2.5952  0.00000  0.171850   \n",
       "3           0.000595  0.22612  0.48839  3.1599  84.8740  0.19114  0.004572   \n",
       "5           0.188290  0.41504  0.34231  1.9279 -58.2740  0.00000  0.233580   \n",
       "6           0.182060  0.55615  0.32191  1.6045  16.3140  0.00000  0.182060   \n",
       "\n",
       "             feat_8  feat_9  feat_10  ...   feat_56   feat_57  feat_58  \\\n",
       "company_id                            ...                                \n",
       "1           1.12250  1.1961  0.46359  ...  0.163960  0.375740  0.83604   \n",
       "2           1.17210  1.6018  0.53962  ...  0.027516  0.271000  0.90108   \n",
       "3           2.98810  1.0077  0.67566  ...  0.007639  0.000881  0.99236   \n",
       "5           1.40940  1.3393  0.58496  ...  0.176480  0.321880  0.82635   \n",
       "6           0.79808  1.8126  0.44385  ...  0.555770  0.410190  0.46957   \n",
       "\n",
       "             feat_59  feat_60  feat_61  feat_62  feat_63  feat_64  bankrupt  \n",
       "company_id                                                                   \n",
       "1           0.000007   9.7145   6.2813   84.291   4.3303   4.0341     False  \n",
       "2           0.000000   5.9882   4.1103  102.190   3.5716   5.9500     False  \n",
       "3           0.000000   6.7742   3.7922   64.846   5.6287   4.4581     False  \n",
       "5           0.073039   2.5912   7.0756  100.540   3.6303   4.6375     False  \n",
       "6           0.029421   8.4553   3.3488  107.240   3.4036  12.4540     False  \n",
       "\n",
       "[5 rows x 65 columns]"
      ]
     },
     "execution_count": 45,
     "metadata": {},
     "output_type": "execute_result"
    }
   ],
   "source": [
    "# Loading JSON data from a file\n",
    "with open(r\"C:\\Users\\delig\\Documents\\Python Scripts\\machine-learning-labs\\lab-101-introduction\\data\\poland-bankruptcy-data-2009.json\",'rt') as file:\n",
    "    data = json.load(file)\n",
    "    df = pd.DataFrame().from_dict(data[\"data\"]).set_index('company_id')\n",
    "\n",
    "print(type(data))\n",
    "df.head()"
   ]
  },
  {
   "cell_type": "code",
   "execution_count": 46,
   "id": "c8e53754-023a-483f-b834-94b1ecd55d88",
   "metadata": {},
   "outputs": [
    {
     "data": {
      "text/plain": [
       "dict_keys(['schema', 'data', 'metadata'])"
      ]
     },
     "execution_count": 46,
     "metadata": {},
     "output_type": "execute_result"
    }
   ],
   "source": [
    "# Schema\n",
    "data.keys()"
   ]
  },
  {
   "cell_type": "code",
   "execution_count": 47,
   "id": "93e5074a-48cf-4103-b05b-6e3879289212",
   "metadata": {},
   "outputs": [
    {
     "data": {
      "text/plain": [
       "{'title': 'Ensemble Boosted Trees with Synthetic Features Generation in Application to Bankruptcy Prediction',\n",
       " 'authors': 'Zieba, M., Tomczak, S. K., & Tomczak, J. M.',\n",
       " 'journal': 'Expert Systems with Applications',\n",
       " 'publicationYear': 2016,\n",
       " 'dataYear': 2009,\n",
       " 'articleLink': 'doi:10.1016/j.eswa.2016.04.001',\n",
       " 'datasetLink': 'https://archive.ics.uci.edu/ml/datasets/Polish+companies+bankruptcy+data'}"
      ]
     },
     "execution_count": 47,
     "metadata": {},
     "output_type": "execute_result"
    }
   ],
   "source": [
    "# JSON file metadata\n",
    "\n",
    "data['metadata']"
   ]
  },
  {
   "cell_type": "code",
   "execution_count": 52,
   "id": "16e9fbc2-5952-4c0d-99ed-121250e64d09",
   "metadata": {},
   "outputs": [
    {
     "data": {
      "text/plain": [
       "{'company_id': 1,\n",
       " 'feat_1': 0.17419,\n",
       " 'feat_2': 0.41299,\n",
       " 'feat_3': 0.14371,\n",
       " 'feat_4': 1.348,\n",
       " 'feat_5': -28.982,\n",
       " 'feat_6': 0.60383,\n",
       " 'feat_7': 0.21946,\n",
       " 'feat_8': 1.1225,\n",
       " 'feat_9': 1.1961,\n",
       " 'feat_10': 0.46359,\n",
       " 'feat_11': 0.21946,\n",
       " 'feat_12': 0.53139,\n",
       " 'feat_13': 0.14233,\n",
       " 'feat_14': 0.21946,\n",
       " 'feat_15': 592.24,\n",
       " 'feat_16': 0.6163,\n",
       " 'feat_17': 2.4213,\n",
       " 'feat_18': 0.21946,\n",
       " 'feat_19': 0.12272,\n",
       " 'feat_20': 37.573,\n",
       " 'feat_21': 0.9969,\n",
       " 'feat_22': 0.2951,\n",
       " 'feat_23': 0.097402,\n",
       " 'feat_24': 0.75641,\n",
       " 'feat_25': 0.46359,\n",
       " 'feat_26': 0.50669,\n",
       " 'feat_27': 1.9737,\n",
       " 'feat_28': 0.32417,\n",
       " 'feat_29': 5.9473,\n",
       " 'feat_30': 0.22493,\n",
       " 'feat_31': 0.12272,\n",
       " 'feat_32': 100.82,\n",
       " 'feat_33': 3.6203,\n",
       " 'feat_34': 0.71453,\n",
       " 'feat_35': 0.2951,\n",
       " 'feat_36': 1.8079,\n",
       " 'feat_37': 123140.0,\n",
       " 'feat_38': 0.46359,\n",
       " 'feat_39': 0.16501,\n",
       " 'feat_40': 0.21282,\n",
       " 'feat_41': 0.041124,\n",
       " 'feat_42': 0.16501,\n",
       " 'feat_43': 95.682,\n",
       " 'feat_44': 58.109,\n",
       " 'feat_45': 0.94621,\n",
       " 'feat_46': 0.90221,\n",
       " 'feat_47': 44.941,\n",
       " 'feat_48': 0.26003,\n",
       " 'feat_49': 0.1454,\n",
       " 'feat_50': 1.348,\n",
       " 'feat_51': 0.41299,\n",
       " 'feat_52': 0.27622,\n",
       " 'feat_53': 1.0457,\n",
       " 'feat_54': 1.0458,\n",
       " 'feat_55': 127280.0,\n",
       " 'feat_56': 0.16396,\n",
       " 'feat_57': 0.37574,\n",
       " 'feat_58': 0.83604,\n",
       " 'feat_59': 6.5269e-06,\n",
       " 'feat_60': 9.7145,\n",
       " 'feat_61': 6.2813,\n",
       " 'feat_62': 84.291,\n",
       " 'feat_63': 4.3303,\n",
       " 'feat_64': 4.0341,\n",
       " 'bankrupt': False}"
      ]
     },
     "execution_count": 52,
     "metadata": {},
     "output_type": "execute_result"
    }
   ],
   "source": [
    "#JSON file data\n",
    "data['data'][0]\n",
    "\n"
   ]
  },
  {
   "cell_type": "code",
   "execution_count": 53,
   "id": "0d3f0ca0-3c21-4b91-a5e1-7d8dda7b0a94",
   "metadata": {},
   "outputs": [
    {
     "name": "stdout",
     "output_type": "stream",
     "text": [
      "['Green', 'Red', 'White', 'Black']\n"
     ]
    }
   ],
   "source": [
    "print(list)"
   ]
  },
  {
   "cell_type": "code",
   "execution_count": 55,
   "id": "6669e305-6340-45f5-864c-d0867828b049",
   "metadata": {},
   "outputs": [
    {
     "name": "stdout",
     "output_type": "stream",
     "text": [
      "They call me: Joe Black\n"
     ]
    }
   ],
   "source": [
    "print('They call me: Joe', list[3])"
   ]
  },
  {
   "cell_type": "code",
   "execution_count": 57,
   "id": "268f9f75-ea76-4e54-801c-31fb483be3a9",
   "metadata": {},
   "outputs": [],
   "source": [
    "list[0] = 'Navy blue'"
   ]
  },
  {
   "cell_type": "code",
   "execution_count": 58,
   "id": "bbce7a32-4c87-4acc-b51b-44d3c620d83b",
   "metadata": {},
   "outputs": [
    {
     "name": "stdout",
     "output_type": "stream",
     "text": [
      "['Navy blue', 'Red', 'White', 'Black']\n"
     ]
    }
   ],
   "source": [
    "print(list)"
   ]
  },
  {
   "cell_type": "markdown",
   "id": "a020f519-4673-47ef-a624-9438a3576711",
   "metadata": {},
   "source": [
    "# Practice Questions"
   ]
  },
  {
   "cell_type": "code",
   "execution_count": 62,
   "id": "c29b253e-1b4e-47eb-a69a-c2a70efba813",
   "metadata": {},
   "outputs": [
    {
     "name": "stdout",
     "output_type": "stream",
     "text": [
      "The sum of the dataset is: 28\n",
      "The average of the data set is: 7.0\n"
     ]
    }
   ],
   "source": [
    "#1. Given a list of numbers, find the sum and average.\n",
    "\n",
    "mylist = [4,5,9,10]\n",
    "\n",
    "sumData = sum(mylist)\n",
    "\n",
    "avg = sumData/ len(mylist)\n",
    "\n",
    "print('The sum of the dataset is:', sumData )\n",
    "print('The average of the data set is:', avg)"
   ]
  },
  {
   "cell_type": "code",
   "execution_count": 63,
   "id": "69ba2b2c-7d7d-40ee-92d3-cc821b92dce5",
   "metadata": {},
   "outputs": [
    {
     "name": "stdout",
     "output_type": "stream",
     "text": [
      "Delight\n",
      "20\n",
      "77.6\n"
     ]
    }
   ],
   "source": [
    "# Variables for storing a person's name,age, and average\n",
    "\n",
    "name,age,avgScore = 'Delight',20,77.6\n",
    "\n",
    "print(name)\n",
    "print(age)\n",
    "print(avgScore)"
   ]
  },
  {
   "cell_type": "code",
   "execution_count": 72,
   "id": "b82891be-6e3f-4cbf-a6df-ccdfa8630643",
   "metadata": {},
   "outputs": [
    {
     "name": "stdout",
     "output_type": "stream",
     "text": [
      "Guava\n",
      "Orange\n",
      "Apple\n",
      "Kiwi\n"
     ]
    }
   ],
   "source": [
    "#Accessing the list using index\n",
    "fruits = ['Fruits','Orange','Apple','Donuts']\n",
    "\n",
    "fruits[0] = 'Guava'\n",
    "fruits[3] = 'Kiwi' \n",
    "\n",
    "\n",
    "\n",
    "print(fruits[0])\n",
    "print(fruits[1])\n",
    "print(fruits[2])\n",
    "print(fruits[3])"
   ]
  },
  {
   "cell_type": "code",
   "execution_count": 76,
   "id": "d4053b64-3a6f-4960-a6cb-43b2125a9014",
   "metadata": {},
   "outputs": [
    {
     "name": "stdout",
     "output_type": "stream",
     "text": [
      "<class 'dict'>\n",
      "{'Full Name': 'Delight Chipiro', 'Age': 21, 'Address': {'City': 'Nelspruit', 'Suburb': 'Bushbuckridge', 'Postal Code': 1365}}\n"
     ]
    }
   ],
   "source": [
    "# Dictionary\n",
    "\n",
    "dict_p = {'Full Name': 'Delight Chipiro',\n",
    "       'Age': 21,\n",
    "       'Address': {'City':'Nelspruit',\n",
    "                  'Suburb':'Bushbuckridge',\n",
    "                  'Postal Code':1365}\n",
    "       }\n",
    "print(type(dict_p))\n",
    "\n",
    "print(dict_p)"
   ]
  },
  {
   "cell_type": "markdown",
   "id": "33ecd63a-8df8-47ae-9666-73254e188fb9",
   "metadata": {},
   "source": [
    "# 4.3 Control Structures"
   ]
  },
  {
   "cell_type": "code",
   "execution_count": 77,
   "id": "e0901945-1f3c-48e1-908c-95e3002f0962",
   "metadata": {},
   "outputs": [
    {
     "name": "stdout",
     "output_type": "stream",
     "text": [
      "25 is not an even number\n"
     ]
    }
   ],
   "source": [
    "# Example: Checking if a number is even\n",
    "test = 25\n",
    "\n",
    "if test %2 == 0:\n",
    "    print(f'{test} is a even number')\n",
    "else:\n",
    "    print(f'{test} is not an even number')"
   ]
  },
  {
   "cell_type": "code",
   "execution_count": 78,
   "id": "1320f171-a482-4001-8bb5-e2e67165302c",
   "metadata": {},
   "outputs": [
    {
     "name": "stdout",
     "output_type": "stream",
     "text": [
      "1\n",
      "2\n",
      "3\n",
      "4\n",
      "5\n"
     ]
    }
   ],
   "source": [
    "for buy in range(1,6):\n",
    "    print(buy)\n"
   ]
  },
  {
   "cell_type": "code",
   "execution_count": 84,
   "id": "61c6e430-7b31-4578-a8c7-ba06c3cd60e3",
   "metadata": {},
   "outputs": [
    {
     "name": "stdout",
     "output_type": "stream",
     "text": [
      "0\n",
      "1\n",
      "2\n",
      "3\n",
      "4\n",
      "5\n",
      "6\n",
      "7\n",
      "8\n",
      "9\n",
      "10\n"
     ]
    }
   ],
   "source": [
    "counter = 0\n",
    "\n",
    "while counter <= 10:\n",
    "    print(counter)\n",
    "    counter +=1"
   ]
  },
  {
   "cell_type": "markdown",
   "id": "dae53d1f-0ae6-48f6-bf17-d841dd787a0d",
   "metadata": {},
   "source": [
    "# Functions"
   ]
  },
  {
   "cell_type": "code",
   "execution_count": 3,
   "id": "f948fe7d-194b-4aa6-892b-0486918cc2bf",
   "metadata": {},
   "outputs": [
    {
     "name": "stdout",
     "output_type": "stream",
     "text": [
      "Greetings to you!: Mr Billionaire\n"
     ]
    }
   ],
   "source": [
    "def greet(name):\n",
    "    print(f'Greetings to you!: {name}')\n",
    "\n",
    "\n",
    "greet('Mr Billionaire')"
   ]
  },
  {
   "cell_type": "code",
   "execution_count": 5,
   "id": "d4b399db-25dc-4969-8c84-e2f2ec222255",
   "metadata": {},
   "outputs": [
    {
     "name": "stdout",
     "output_type": "stream",
     "text": [
      "False\n"
     ]
    }
   ],
   "source": [
    "#Practice questions\n",
    "\n",
    "naam = ['Denice', 'Delight','Amu','Naledi', 'Brenan']\n",
    "\n",
    "def check(naam):\n",
    "    return any('a' in naam for name in naam)\n",
    "\n",
    "naam = ['Denice', 'Delight','Amu','Naledi', 'Brenan']\n",
    "result = check(naam)\n",
    "print(result)\n",
    "    \n",
    "    "
   ]
  },
  {
   "cell_type": "markdown",
   "id": "4227077b-becb-41ac-a4d8-417114fa99f9",
   "metadata": {},
   "source": [
    "# Object-oriented programming"
   ]
  },
  {
   "cell_type": "code",
   "execution_count": 6,
   "id": "242c1957-d2fd-4827-8910-a657cc42698d",
   "metadata": {},
   "outputs": [],
   "source": [
    "class person:\n",
    "\n",
    "    #creating a constructor\n",
    "    def iniate(self, name, age):\n",
    "        self.name = name\n",
    "        self.age = age\n",
    "\n",
    "\n",
    "    def greeter(self):\n",
    "        print(f'Hello, I go by the name of {self.name} and I realized this when I was only {self.age}')"
   ]
  },
  {
   "cell_type": "code",
   "execution_count": 13,
   "id": "0404d79e-c1db-4f50-b28b-41f64aa73349",
   "metadata": {},
   "outputs": [],
   "source": [
    "#Creating an instance\n",
    "persona = person()\n",
    "\n",
    "persona.name = \"El Magnifico\"\n",
    "\n",
    "persona.age = 20"
   ]
  },
  {
   "cell_type": "code",
   "execution_count": 14,
   "id": "f5d604de-9651-4f61-a8ad-d3bf9957b2c2",
   "metadata": {},
   "outputs": [
    {
     "name": "stdout",
     "output_type": "stream",
     "text": [
      "El Magnifico\n"
     ]
    }
   ],
   "source": [
    "print(persona.name)"
   ]
  },
  {
   "cell_type": "code",
   "execution_count": 15,
   "id": "d1b1ae49-1b9e-43f8-8a31-b1855dd822fa",
   "metadata": {},
   "outputs": [
    {
     "name": "stdout",
     "output_type": "stream",
     "text": [
      "Hello, I go by the name of El Magnifico and I realized this when I was only 20\n"
     ]
    }
   ],
   "source": [
    "#Calling the methods in the class\n",
    "persona.greeter()"
   ]
  },
  {
   "cell_type": "markdown",
   "id": "79847825-ba50-4e67-aa96-25096047c755",
   "metadata": {},
   "source": [
    "# Data Manipulation\n",
    "\n",
    "### Introduction to numpy"
   ]
  },
  {
   "cell_type": "code",
   "execution_count": 16,
   "id": "5d04c9c5-6961-4b4f-b304-206e21a7000f",
   "metadata": {},
   "outputs": [],
   "source": [
    "import numpy as np"
   ]
  },
  {
   "cell_type": "code",
   "execution_count": 17,
   "id": "c4096044-497f-487e-9ad4-2743377f3ff6",
   "metadata": {},
   "outputs": [
    {
     "data": {
      "text/plain": [
       "array([1, 2, 3, 4, 5])"
      ]
     },
     "execution_count": 17,
     "metadata": {},
     "output_type": "execute_result"
    }
   ],
   "source": [
    "cur_list = [1,2,3,4,5]\n",
    "\n",
    "array = np.array(cur_list)\n",
    "\n",
    "array"
   ]
  },
  {
   "cell_type": "markdown",
   "id": "8852ef58-e69e-4aff-9335-477931294006",
   "metadata": {},
   "source": [
    "###### Basic Array operations "
   ]
  },
  {
   "cell_type": "code",
   "execution_count": 19,
   "id": "da32b240-a44f-4187-9180-670faa02baba",
   "metadata": {},
   "outputs": [
    {
     "name": "stdout",
     "output_type": "stream",
     "text": [
      "This is your array after adding your number [11 12 13 14 15]\n"
     ]
    }
   ],
   "source": [
    "#Element wise addition\n",
    "# Adds 10 to each element\n",
    "result = array + 10\n",
    "\n",
    "print(\"This is your array after adding your number\", result)"
   ]
  },
  {
   "cell_type": "markdown",
   "id": "51be2502-9e3a-468e-af8b-27133e1fe6a0",
   "metadata": {},
   "source": [
    "#### Element-wise addition"
   ]
  },
  {
   "cell_type": "code",
   "execution_count": 20,
   "id": "1be9fcd4-2e65-4616-858b-4101e21b0f53",
   "metadata": {},
   "outputs": [
    {
     "name": "stdout",
     "output_type": "stream",
     "text": [
      "This is what happens when you actually sit down and code  [ 2  4  6  8 10]\n"
     ]
    }
   ],
   "source": [
    "multiplier = array * 2 \n",
    "\n",
    "print(\"This is what happens when you actually sit down and code \", multiplier)"
   ]
  },
  {
   "cell_type": "markdown",
   "id": "2229f1f3-d9b1-4c3a-9b9f-fb81fb7e9426",
   "metadata": {},
   "source": [
    "#### Finding the mean and sum of the array\n",
    "We calculate the mean and sum of the array elements"
   ]
  },
  {
   "cell_type": "code",
   "execution_count": null,
   "id": "aebd79bd-157c-44c7-890c-4a36f0910272",
   "metadata": {},
   "outputs": [],
   "source": [
    "mean_val ="
   ]
  },
  {
   "cell_type": "code",
   "execution_count": null,
   "id": "172551b5-1160-4ace-98c1-a91d643405b0",
   "metadata": {},
   "outputs": [],
   "source": []
  },
  {
   "cell_type": "code",
   "execution_count": null,
   "id": "b0b3a338-22dc-4296-8994-df65b6318c28",
   "metadata": {},
   "outputs": [],
   "source": []
  },
  {
   "cell_type": "code",
   "execution_count": null,
   "id": "8d6b4d63-8c12-4333-8271-2abd37564fcb",
   "metadata": {},
   "outputs": [],
   "source": []
  },
  {
   "cell_type": "code",
   "execution_count": null,
   "id": "7d899c1b-c66e-48c7-81af-7c11cb06fccf",
   "metadata": {},
   "outputs": [],
   "source": []
  },
  {
   "cell_type": "code",
   "execution_count": null,
   "id": "c0a20d7c-5029-4671-9c01-dbc5bbb35eef",
   "metadata": {},
   "outputs": [],
   "source": []
  },
  {
   "cell_type": "code",
   "execution_count": null,
   "id": "1e1ebdf8-0b3c-4286-a79e-92562bc5abb4",
   "metadata": {},
   "outputs": [],
   "source": []
  },
  {
   "cell_type": "code",
   "execution_count": null,
   "id": "158720a9-bbc2-454d-9015-f503099dabc3",
   "metadata": {},
   "outputs": [],
   "source": []
  },
  {
   "cell_type": "code",
   "execution_count": null,
   "id": "9f143808-c21c-413f-aab7-7eaed69cdaac",
   "metadata": {},
   "outputs": [],
   "source": []
  }
 ],
 "metadata": {
  "kernelspec": {
   "display_name": "Python 3 (ipykernel)",
   "language": "python",
   "name": "python3"
  },
  "language_info": {
   "codemirror_mode": {
    "name": "ipython",
    "version": 3
   },
   "file_extension": ".py",
   "mimetype": "text/x-python",
   "name": "python",
   "nbconvert_exporter": "python",
   "pygments_lexer": "ipython3",
   "version": "3.12.3"
  }
 },
 "nbformat": 4,
 "nbformat_minor": 5
}
